{
 "cells": [
  {
   "cell_type": "code",
   "execution_count": null,
   "id": "73507acf-1ab8-4b9c-b271-e6a67af6b464",
   "metadata": {},
   "outputs": [
    {
     "name": "stdout",
     "output_type": "stream",
     "text": [
      "Empty DataFrame\n",
      "Columns: [League, Season, Stage, Player, Team, GP, MIN, FGM, FGA, 3PM, 3PA, FTM, FTA, TOV, PF, ORB, DRB, REB, AST, STL, BLK, PTS, birth_year, birth_month, birth_date, height, height_cm, weight, weight_kg, nationality, high_school, draft_round, draft_pick, draft_team, position, position_number]\n",
      "Index: []\n",
      "\n",
      "[0 rows x 36 columns]\n"
     ]
    }
   ],
   "source": [
    "import pandas as pd\n",
    "players = pd.read_csv(\"players.csv\")\n",
    "players[\"full_name\"] = players[\"fname\"] + \" \" + players[\"lname\"]\n",
    "season_stats = pd.read_csv(\"players_stats_by_season_full_details.csv\")\n",
    "season_stats = season_stats.merge(players[['full_name', 'position']], \n",
    "                                  left_on='Player', right_on='full_name', \n",
    "                                  how='left')\n",
    "season_stats = season_stats.drop(columns=['full_name'])\n",
    "season_stats = season_stats[season_stats[\"League\"] == \"NBA\"]\n",
    "season_stats = season_stats[season_stats['position'].notna()]\n",
    "season_stats \n",
    "def position_number(position):\n",
    "    if position == \"Guard\":\n",
    "        return 1\n",
    "    elif position == \"Forward\":\n",
    "        return 3\n",
    "    elif position in [\"Guard-Forward\", \"Forward-Guard\"]:\n",
    "        return 2\n",
    "    elif position in [\"Forward-Center\", \"Center-Forward\"]:\n",
    "        return 4\n",
    "    elif position == \"Center\":\n",
    "        return 5\n",
    "    else:\n",
    "        return None\n",
    "season_stats['position_number'] = season_stats['position'].apply(position_number)\n",
    "season_stats.to_csv('players_stats_by_season_with_position.csv', index=False)\n",
    "print(season_stats[season_stats['position_number'] == \"Fuck\"])\n",
    "\n",
    "\n",
    "\n"
   ]
  },
  {
   "cell_type": "code",
   "execution_count": null,
   "id": "a9103780-6d3b-40b2-ada5-c76b4d5a0cea",
   "metadata": {},
   "outputs": [],
   "source": []
  },
  {
   "cell_type": "code",
   "execution_count": null,
   "id": "8788e876-d642-4deb-b659-0e64e9481ce8",
   "metadata": {},
   "outputs": [],
   "source": []
  }
 ],
 "metadata": {
  "kernelspec": {
   "display_name": "Python 3 (ipykernel)",
   "language": "python",
   "name": "python3"
  },
  "language_info": {
   "codemirror_mode": {
    "name": "ipython",
    "version": 3
   },
   "file_extension": ".py",
   "mimetype": "text/x-python",
   "name": "python",
   "nbconvert_exporter": "python",
   "pygments_lexer": "ipython3",
   "version": "3.9.6"
  }
 },
 "nbformat": 4,
 "nbformat_minor": 5
}
