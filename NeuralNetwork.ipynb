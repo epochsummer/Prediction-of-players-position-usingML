{
 "cells": [
  {
   "cell_type": "code",
   "execution_count": 2,
   "id": "3b60d956-c431-466c-abcf-a13ea70b5353",
   "metadata": {},
   "outputs": [
    {
     "name": "stdout",
     "output_type": "stream",
     "text": [
      "Epoch [10/50], Loss: 1.5856\n",
      "Epoch [20/50], Loss: 1.5310\n",
      "Epoch [30/50], Loss: 1.4855\n",
      "Epoch [40/50], Loss: 1.4461\n",
      "Epoch [50/50], Loss: 1.4114\n",
      "Accuracy on test set: 0.4414\n"
     ]
    }
   ],
   "source": [
    "import torch\n",
    "import torch.nn as nn\n",
    "import torch.optim as optim\n",
    "from sklearn.model_selection import train_test_split\n",
    "from sklearn.preprocessing import StandardScaler\n",
    "import pandas as pd\n",
    "\n",
    "# 1. Bring out the data\n",
    "season_stats = pd.read_csv(\"players_stats_by_season_with_position.csv\")\n",
    "\n",
    "X = season_stats[['MIN', 'PTS', 'REB', 'AST', 'STL', 'BLK']]\n",
    "y = season_stats['position_number'].astype(int) - 1 \n",
    "\n",
    "# 2. Scaling\n",
    "scaler = StandardScaler()\n",
    "X_scaled = scaler.fit_transform(X)\n",
    "\n",
    "# 3. Split the data to training and testing\n",
    "X_train, X_test, y_train, y_test = train_test_split(X_scaled, y, test_size=0.2, random_state=42)\n",
    "\n",
    "# 4. Convert to torch \n",
    "X_train = torch.tensor(X_train, dtype=torch.float32)\n",
    "X_test = torch.tensor(X_test, dtype=torch.float32)\n",
    "y_train = torch.tensor(y_train.values, dtype=torch.long)\n",
    "y_test = torch.tensor(y_test.values, dtype=torch.long)\n",
    "\n",
    "# 5. 모델 정의\n",
    "class SimpleNN(nn.Module):\n",
    "    def __init__(self):\n",
    "        super(SimpleNN, self).__init__()\n",
    "        self.fc1 = nn.Linear(6, 32)  # 6 inputs\n",
    "        self.relu = nn.ReLU()\n",
    "        self.fc2 = nn.Linear(32, 5)  # 5 Classes\n",
    "\n",
    "    def forward(self, x):\n",
    "        out = self.fc1(x)\n",
    "        out = self.relu(out)\n",
    "        out = self.fc2(out)\n",
    "        return out\n",
    "\n",
    "model = SimpleNN()\n",
    "\n",
    "# 6. \n",
    "criterion = nn.CrossEntropyLoss()\n",
    "optimizer = optim.Adam(model.parameters(), lr=0.001)\n",
    "\n",
    "# 7. \n",
    "epochs = 50\n",
    "for epoch in range(epochs):\n",
    "    outputs = model(X_train)\n",
    "    loss = criterion(outputs, y_train)\n",
    "\n",
    "    optimizer.zero_grad()\n",
    "    loss.backward()\n",
    "    optimizer.step()\n",
    "\n",
    "    if (epoch+1) % 10 == 0:\n",
    "        print(f'Epoch [{epoch+1}/{epochs}], Loss: {loss.item():.4f}')\n",
    "\n",
    "# 8. Accuracy\n",
    "with torch.no_grad():\n",
    "    y_pred = model(X_test)\n",
    "    predicted = torch.argmax(y_pred, axis=1)\n",
    "    acc = (predicted == y_test).sum().item() / len(y_test)\n",
    "    print(f'Accuracy on test set: {acc:.4f}')\n"
   ]
  },
  {
   "cell_type": "code",
   "execution_count": null,
   "id": "813a4d1b-3f01-47bf-847a-cee6a1e21a4c",
   "metadata": {},
   "outputs": [],
   "source": []
  }
 ],
 "metadata": {
  "kernelspec": {
   "display_name": "Python 3 (ipykernel)",
   "language": "python",
   "name": "python3"
  },
  "language_info": {
   "codemirror_mode": {
    "name": "ipython",
    "version": 3
   },
   "file_extension": ".py",
   "mimetype": "text/x-python",
   "name": "python",
   "nbconvert_exporter": "python",
   "pygments_lexer": "ipython3",
   "version": "3.9.6"
  }
 },
 "nbformat": 4,
 "nbformat_minor": 5
}
