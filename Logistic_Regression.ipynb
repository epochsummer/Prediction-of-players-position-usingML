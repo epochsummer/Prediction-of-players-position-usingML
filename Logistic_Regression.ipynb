{
 "cells": [
  {
   "cell_type": "code",
   "execution_count": 26,
   "id": "900de678-c598-4dbc-8258-6feecfd74a7f",
   "metadata": {},
   "outputs": [
    {
     "name": "stdout",
     "output_type": "stream",
     "text": [
      "The accuracy of the model is: 0.6366\n"
     ]
    }
   ],
   "source": [
    "import pandas as pd\n",
    "from sklearn.model_selection import train_test_split # to split training and testing\n",
    "from sklearn.linear_model import LogisticRegression # To calculate the w value and bias\n",
    "from sklearn.metrics import accuracy_score # Later to calculate prediction and accuracy\n",
    "from sklearn.preprocessing import StandardScaler\n",
    "\n",
    "season_stats = pd.read_csv(\"players_stats_by_season_with_position.csv\")\n",
    "\n",
    "# Set which one is input and which one is output\n",
    "X = season_stats[[ 'MIN', \"PTS\", \"REB\", \"AST\", \"STL\", \"BLK\"]]\n",
    "y = season_stats[\"position_number\"].astype(str) \n",
    "\n",
    "# Set which one is the training and which one is the testing\n",
    "scaler = StandardScaler()\n",
    "X_scaled = scaler.fit_transform(X) # All the input scales are different\n",
    "X_train, X_test, y_train, y_test = train_test_split(X,y, test_size=0.2, random_state=42)\n",
    "\n",
    "# Now ask them to make model. Used saga because there is a lot of classes for input. Also used regularization\n",
    "#lbfgs \n",
    "model = LogisticRegression(max_iter = 5000, solver= 'saga', penalty = 'elasticnet', l1_ratio=0.5, C=1.0)\n",
    "model.fit(X_train, y_train)\n",
    "\n",
    "# Prediction and Accuracy\n",
    "y_prec = model.predict(X_test)\n",
    "accuracy = accuracy_score(y_test, y_prec)\n",
    "\n",
    "print(f\"The accuracy of the model is: {accuracy:.4f}\")"
   ]
  },
  {
   "cell_type": "code",
   "execution_count": null,
   "id": "44846bdb-eee7-483b-a1dd-f19b4cb5b094",
   "metadata": {},
   "outputs": [],
   "source": []
  }
 ],
 "metadata": {
  "kernelspec": {
   "display_name": "Python 3 (ipykernel)",
   "language": "python",
   "name": "python3"
  },
  "language_info": {
   "codemirror_mode": {
    "name": "ipython",
    "version": 3
   },
   "file_extension": ".py",
   "mimetype": "text/x-python",
   "name": "python",
   "nbconvert_exporter": "python",
   "pygments_lexer": "ipython3",
   "version": "3.9.6"
  }
 },
 "nbformat": 4,
 "nbformat_minor": 5
}
